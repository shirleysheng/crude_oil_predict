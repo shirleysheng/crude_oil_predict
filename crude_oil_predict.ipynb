{
  "nbformat": 4,
  "nbformat_minor": 0,
  "metadata": {
    "colab": {
      "name": "crude_oil_predict.ipynb",
      "provenance": [],
      "authorship_tag": "ABX9TyNmkBpQ8JFvkwItc8bIczE3",
      "include_colab_link": true
    },
    "kernelspec": {
      "name": "python3",
      "display_name": "Python 3"
    }
  },
  "cells": [
    {
      "cell_type": "markdown",
      "metadata": {
        "id": "view-in-github",
        "colab_type": "text"
      },
      "source": [
        "<a href=\"https://colab.research.google.com/github/shirleysheng/crude_oil_predict/blob/master/crude_oil_predict.ipynb\" target=\"_parent\"><img src=\"https://colab.research.google.com/assets/colab-badge.svg\" alt=\"Open In Colab\"/></a>"
      ]
    },
    {
      "cell_type": "code",
      "metadata": {
        "id": "Qj3VAxxtiiPr",
        "colab_type": "code",
        "colab": {}
      },
      "source": [
        "\n",
        "from datetime import datetime as dt, timedelta as td\n",
        "import numpy as np\n",
        "import pandas as pd\n",
        "import warnings\n",
        "warnings.filterwarnings(\"ignore\")"
      ],
      "execution_count": 0,
      "outputs": []
    },
    {
      "cell_type": "code",
      "metadata": {
        "id": "gQNNJ6dEvBCY",
        "colab_type": "code",
        "colab": {}
      },
      "source": [
        "import sklearn\n",
        "from sklearn.ensemble import RandomForestClassifier\n",
        "from sklearn.linear_model import LogisticRegression\n",
        "from sklearn.discriminant_analysis import (\n",
        "LinearDiscriminantAnalysis as LDA,\n",
        "QuadraticDiscriminantAnalysis as QDA\n",
        ")\n",
        "from sklearn.metrics import confusion_matrix\n",
        "from sklearn.svm import LinearSVC, SVC"
      ],
      "execution_count": 0,
      "outputs": []
    },
    {
      "cell_type": "code",
      "metadata": {
        "id": "Uh30fKTSiw7Z",
        "colab_type": "code",
        "colab": {}
      },
      "source": [
        "start_date = dt(2016, 1, 10)\n",
        "end_date = dt(2017, 12, 31)"
      ],
      "execution_count": 0,
      "outputs": []
    },
    {
      "cell_type": "code",
      "metadata": {
        "id": "K9bb2ssqkIA2",
        "colab_type": "code",
        "colab": {}
      },
      "source": [
        "ts = pd.read_csv('/content/DATA.csv', index_col=[1])"
      ],
      "execution_count": 0,
      "outputs": []
    },
    {
      "cell_type": "code",
      "metadata": {
        "id": "ZWjKIarV02jh",
        "colab_type": "code",
        "colab": {}
      },
      "source": [
        "tslag = ts.iloc[:,1:]\n"
      ],
      "execution_count": 0,
      "outputs": []
    },
    {
      "cell_type": "code",
      "metadata": {
        "id": "F1-loIHMkXef",
        "colab_type": "code",
        "colab": {}
      },
      "source": [
        "for i in range(0,5):\n",
        "  tslag['oil_Lag%s' % str(i+1)] = ts['oil'].shift(i+1)\n",
        "  tslag['gold_Lag%s' % str(i+1)] = ts['gold'].shift(i+1)\n",
        "  tslag['DowJ_Lag%s' % str(i+1)] = ts['DowJ'].shift(i+1)\n",
        "  tslag['NAS_Lag%s' % str(i+1)] = ts['NAS'].shift(i+1)\n",
        "  tslag['US_INDEX_Lag%s' % str(i+1)] = ts['US_INDEX'].shift(i+1)"
      ],
      "execution_count": 0,
      "outputs": []
    },
    {
      "cell_type": "code",
      "metadata": {
        "id": "JRiTq4RY3Pji",
        "colab_type": "code",
        "colab": {
          "base_uri": "https://localhost:8080/",
          "height": 340
        },
        "outputId": "3213e6d0-3955-4bf0-e7b1-e3c6194c4d5f"
      },
      "source": [
        "tslag.head()"
      ],
      "execution_count": 7,
      "outputs": [
        {
          "output_type": "execute_result",
          "data": {
            "text/html": [
              "<div>\n",
              "<style scoped>\n",
              "    .dataframe tbody tr th:only-of-type {\n",
              "        vertical-align: middle;\n",
              "    }\n",
              "\n",
              "    .dataframe tbody tr th {\n",
              "        vertical-align: top;\n",
              "    }\n",
              "\n",
              "    .dataframe thead th {\n",
              "        text-align: right;\n",
              "    }\n",
              "</style>\n",
              "<table border=\"1\" class=\"dataframe\">\n",
              "  <thead>\n",
              "    <tr style=\"text-align: right;\">\n",
              "      <th></th>\n",
              "      <th>oil</th>\n",
              "      <th>gold</th>\n",
              "      <th>DowJ</th>\n",
              "      <th>NAS</th>\n",
              "      <th>US_INDEX</th>\n",
              "      <th>oil_Lag1</th>\n",
              "      <th>gold_Lag1</th>\n",
              "      <th>DowJ_Lag1</th>\n",
              "      <th>NAS_Lag1</th>\n",
              "      <th>US_INDEX_Lag1</th>\n",
              "      <th>oil_Lag2</th>\n",
              "      <th>gold_Lag2</th>\n",
              "      <th>DowJ_Lag2</th>\n",
              "      <th>NAS_Lag2</th>\n",
              "      <th>US_INDEX_Lag2</th>\n",
              "      <th>oil_Lag3</th>\n",
              "      <th>gold_Lag3</th>\n",
              "      <th>DowJ_Lag3</th>\n",
              "      <th>NAS_Lag3</th>\n",
              "      <th>US_INDEX_Lag3</th>\n",
              "      <th>oil_Lag4</th>\n",
              "      <th>gold_Lag4</th>\n",
              "      <th>DowJ_Lag4</th>\n",
              "      <th>NAS_Lag4</th>\n",
              "      <th>US_INDEX_Lag4</th>\n",
              "      <th>oil_Lag5</th>\n",
              "      <th>gold_Lag5</th>\n",
              "      <th>DowJ_Lag5</th>\n",
              "      <th>NAS_Lag5</th>\n",
              "      <th>US_INDEX_Lag5</th>\n",
              "    </tr>\n",
              "    <tr>\n",
              "      <th>date</th>\n",
              "      <th></th>\n",
              "      <th></th>\n",
              "      <th></th>\n",
              "      <th></th>\n",
              "      <th></th>\n",
              "      <th></th>\n",
              "      <th></th>\n",
              "      <th></th>\n",
              "      <th></th>\n",
              "      <th></th>\n",
              "      <th></th>\n",
              "      <th></th>\n",
              "      <th></th>\n",
              "      <th></th>\n",
              "      <th></th>\n",
              "      <th></th>\n",
              "      <th></th>\n",
              "      <th></th>\n",
              "      <th></th>\n",
              "      <th></th>\n",
              "      <th></th>\n",
              "      <th></th>\n",
              "      <th></th>\n",
              "      <th></th>\n",
              "      <th></th>\n",
              "      <th></th>\n",
              "      <th></th>\n",
              "      <th></th>\n",
              "      <th></th>\n",
              "      <th></th>\n",
              "    </tr>\n",
              "  </thead>\n",
              "  <tbody>\n",
              "    <tr>\n",
              "      <th>2015-01-02</th>\n",
              "      <td>52.72</td>\n",
              "      <td>1184.25</td>\n",
              "      <td>17832.990234</td>\n",
              "      <td>4726.810059</td>\n",
              "      <td>91.080002</td>\n",
              "      <td>NaN</td>\n",
              "      <td>NaN</td>\n",
              "      <td>NaN</td>\n",
              "      <td>NaN</td>\n",
              "      <td>NaN</td>\n",
              "      <td>NaN</td>\n",
              "      <td>NaN</td>\n",
              "      <td>NaN</td>\n",
              "      <td>NaN</td>\n",
              "      <td>NaN</td>\n",
              "      <td>NaN</td>\n",
              "      <td>NaN</td>\n",
              "      <td>NaN</td>\n",
              "      <td>NaN</td>\n",
              "      <td>NaN</td>\n",
              "      <td>NaN</td>\n",
              "      <td>NaN</td>\n",
              "      <td>NaN</td>\n",
              "      <td>NaN</td>\n",
              "      <td>NaN</td>\n",
              "      <td>NaN</td>\n",
              "      <td>NaN</td>\n",
              "      <td>NaN</td>\n",
              "      <td>NaN</td>\n",
              "      <td>NaN</td>\n",
              "    </tr>\n",
              "    <tr>\n",
              "      <th>2015-01-05</th>\n",
              "      <td>50.05</td>\n",
              "      <td>1192.00</td>\n",
              "      <td>17501.650391</td>\n",
              "      <td>4652.569824</td>\n",
              "      <td>91.379997</td>\n",
              "      <td>52.72</td>\n",
              "      <td>1184.25</td>\n",
              "      <td>17832.990234</td>\n",
              "      <td>4726.810059</td>\n",
              "      <td>91.080002</td>\n",
              "      <td>NaN</td>\n",
              "      <td>NaN</td>\n",
              "      <td>NaN</td>\n",
              "      <td>NaN</td>\n",
              "      <td>NaN</td>\n",
              "      <td>NaN</td>\n",
              "      <td>NaN</td>\n",
              "      <td>NaN</td>\n",
              "      <td>NaN</td>\n",
              "      <td>NaN</td>\n",
              "      <td>NaN</td>\n",
              "      <td>NaN</td>\n",
              "      <td>NaN</td>\n",
              "      <td>NaN</td>\n",
              "      <td>NaN</td>\n",
              "      <td>NaN</td>\n",
              "      <td>NaN</td>\n",
              "      <td>NaN</td>\n",
              "      <td>NaN</td>\n",
              "      <td>NaN</td>\n",
              "    </tr>\n",
              "    <tr>\n",
              "      <th>2015-01-06</th>\n",
              "      <td>47.98</td>\n",
              "      <td>1211.00</td>\n",
              "      <td>17371.640625</td>\n",
              "      <td>4592.740234</td>\n",
              "      <td>91.500000</td>\n",
              "      <td>50.05</td>\n",
              "      <td>1192.00</td>\n",
              "      <td>17501.650391</td>\n",
              "      <td>4652.569824</td>\n",
              "      <td>91.379997</td>\n",
              "      <td>52.72</td>\n",
              "      <td>1184.25</td>\n",
              "      <td>17832.990234</td>\n",
              "      <td>4726.810059</td>\n",
              "      <td>91.080002</td>\n",
              "      <td>NaN</td>\n",
              "      <td>NaN</td>\n",
              "      <td>NaN</td>\n",
              "      <td>NaN</td>\n",
              "      <td>NaN</td>\n",
              "      <td>NaN</td>\n",
              "      <td>NaN</td>\n",
              "      <td>NaN</td>\n",
              "      <td>NaN</td>\n",
              "      <td>NaN</td>\n",
              "      <td>NaN</td>\n",
              "      <td>NaN</td>\n",
              "      <td>NaN</td>\n",
              "      <td>NaN</td>\n",
              "      <td>NaN</td>\n",
              "    </tr>\n",
              "    <tr>\n",
              "      <th>2015-01-07</th>\n",
              "      <td>48.69</td>\n",
              "      <td>1213.75</td>\n",
              "      <td>17584.519531</td>\n",
              "      <td>4650.470215</td>\n",
              "      <td>91.889999</td>\n",
              "      <td>47.98</td>\n",
              "      <td>1211.00</td>\n",
              "      <td>17371.640625</td>\n",
              "      <td>4592.740234</td>\n",
              "      <td>91.500000</td>\n",
              "      <td>50.05</td>\n",
              "      <td>1192.00</td>\n",
              "      <td>17501.650391</td>\n",
              "      <td>4652.569824</td>\n",
              "      <td>91.379997</td>\n",
              "      <td>52.72</td>\n",
              "      <td>1184.25</td>\n",
              "      <td>17832.990234</td>\n",
              "      <td>4726.810059</td>\n",
              "      <td>91.080002</td>\n",
              "      <td>NaN</td>\n",
              "      <td>NaN</td>\n",
              "      <td>NaN</td>\n",
              "      <td>NaN</td>\n",
              "      <td>NaN</td>\n",
              "      <td>NaN</td>\n",
              "      <td>NaN</td>\n",
              "      <td>NaN</td>\n",
              "      <td>NaN</td>\n",
              "      <td>NaN</td>\n",
              "    </tr>\n",
              "    <tr>\n",
              "      <th>2015-01-08</th>\n",
              "      <td>48.80</td>\n",
              "      <td>1206.50</td>\n",
              "      <td>17907.869141</td>\n",
              "      <td>4736.189941</td>\n",
              "      <td>92.370003</td>\n",
              "      <td>48.69</td>\n",
              "      <td>1213.75</td>\n",
              "      <td>17584.519531</td>\n",
              "      <td>4650.470215</td>\n",
              "      <td>91.889999</td>\n",
              "      <td>47.98</td>\n",
              "      <td>1211.00</td>\n",
              "      <td>17371.640625</td>\n",
              "      <td>4592.740234</td>\n",
              "      <td>91.500000</td>\n",
              "      <td>50.05</td>\n",
              "      <td>1192.00</td>\n",
              "      <td>17501.650391</td>\n",
              "      <td>4652.569824</td>\n",
              "      <td>91.379997</td>\n",
              "      <td>52.72</td>\n",
              "      <td>1184.25</td>\n",
              "      <td>17832.990234</td>\n",
              "      <td>4726.810059</td>\n",
              "      <td>91.080002</td>\n",
              "      <td>NaN</td>\n",
              "      <td>NaN</td>\n",
              "      <td>NaN</td>\n",
              "      <td>NaN</td>\n",
              "      <td>NaN</td>\n",
              "    </tr>\n",
              "  </tbody>\n",
              "</table>\n",
              "</div>"
            ],
            "text/plain": [
              "              oil     gold          DowJ  ...  DowJ_Lag5  NAS_Lag5  US_INDEX_Lag5\n",
              "date                                      ...                                    \n",
              "2015-01-02  52.72  1184.25  17832.990234  ...        NaN       NaN            NaN\n",
              "2015-01-05  50.05  1192.00  17501.650391  ...        NaN       NaN            NaN\n",
              "2015-01-06  47.98  1211.00  17371.640625  ...        NaN       NaN            NaN\n",
              "2015-01-07  48.69  1213.75  17584.519531  ...        NaN       NaN            NaN\n",
              "2015-01-08  48.80  1206.50  17907.869141  ...        NaN       NaN            NaN\n",
              "\n",
              "[5 rows x 30 columns]"
            ]
          },
          "metadata": {
            "tags": []
          },
          "execution_count": 7
        }
      ]
    },
    {
      "cell_type": "code",
      "metadata": {
        "id": "qwGAsQBo49hX",
        "colab_type": "code",
        "colab": {}
      },
      "source": [
        "# Create the returns DataFrame\n",
        "tsret = tslag.pct_change()*100.0"
      ],
      "execution_count": 0,
      "outputs": []
    },
    {
      "cell_type": "code",
      "metadata": {
        "id": "Iq6bcHGrEyPm",
        "colab_type": "code",
        "colab": {
          "base_uri": "https://localhost:8080/",
          "height": 170
        },
        "outputId": "943309d0-a51f-4629-a189-176907163031"
      },
      "source": [
        "tsret['oil'].describe()"
      ],
      "execution_count": 9,
      "outputs": [
        {
          "output_type": "execute_result",
          "data": {
            "text/plain": [
              "count    1319.000000\n",
              "mean       -0.227352\n",
              "std         9.792551\n",
              "min      -301.966139\n",
              "25%        -1.390699\n",
              "50%         0.062125\n",
              "75%         1.332600\n",
              "max        53.086420\n",
              "Name: oil, dtype: float64"
            ]
          },
          "metadata": {
            "tags": []
          },
          "execution_count": 9
        }
      ]
    },
    {
      "cell_type": "code",
      "metadata": {
        "id": "tA5uGuAKS97I",
        "colab_type": "code",
        "colab": {}
      },
      "source": [
        "# If any of the values of percentage returns equal zero, set them to\n",
        "# a small number (stops issues with QDA model in scikit-learn)\n",
        "tsret.loc[tsret['oil'].abs() < 0.0001, ['oil']] = 0.0001"
      ],
      "execution_count": 0,
      "outputs": []
    },
    {
      "cell_type": "code",
      "metadata": {
        "id": "uUYUQkP1et46",
        "colab_type": "code",
        "colab": {}
      },
      "source": [
        "# Create the \"Direction\" column (+1 or -1) indicating an up/down day\n",
        "tsret['Direction'] = np.sign(tsret['oil'])"
      ],
      "execution_count": 0,
      "outputs": []
    },
    {
      "cell_type": "code",
      "metadata": {
        "id": "BsKnlM0VpDQu",
        "colab_type": "code",
        "colab": {}
      },
      "source": [
        "tsret = tsret.dropna()"
      ],
      "execution_count": 0,
      "outputs": []
    },
    {
      "cell_type": "code",
      "metadata": {
        "id": "rSmWHgwvtHaf",
        "colab_type": "code",
        "colab": {
          "base_uri": "https://localhost:8080/",
          "height": 34
        },
        "outputId": "453d8ca0-d705-4f53-f643-c7dae8e2287b"
      },
      "source": [
        "set(tsret['Direction'])# examine we have two class -1 for down trend and +1 for up trend"
      ],
      "execution_count": 13,
      "outputs": [
        {
          "output_type": "execute_result",
          "data": {
            "text/plain": [
              "{-1.0, 1.0}"
            ]
          },
          "metadata": {
            "tags": []
          },
          "execution_count": 13
        }
      ]
    },
    {
      "cell_type": "code",
      "metadata": {
        "id": "ms0oBoQrs10F",
        "colab_type": "code",
        "colab": {}
      },
      "source": [
        "X = tsret.iloc[:,1:20]\n",
        "y  = tsret.iloc[:,-1]\n",
        "\n",
        "# The test data is split into two parts: Before and after 1st Jan 2017.\n",
        "start_test = dt(2020, 1, 1)\n",
        "# Create training and test sets\n",
        "X_train = X[pd.to_datetime(X.index) < start_test]\n",
        "X_test = X[pd.to_datetime(X.index) >= start_test]\n",
        "y_train = y[pd.to_datetime(y.index) < start_test]\n",
        "y_test = y[pd.to_datetime(y.index) >= start_test]"
      ],
      "execution_count": 0,
      "outputs": []
    },
    {
      "cell_type": "code",
      "metadata": {
        "id": "_Ybbq8YlrHka",
        "colab_type": "code",
        "colab": {
          "base_uri": "https://localhost:8080/",
          "height": 340
        },
        "outputId": "3c1921fb-b167-4150-8182-03463e54656d"
      },
      "source": [
        "X_train.head()"
      ],
      "execution_count": 15,
      "outputs": [
        {
          "output_type": "execute_result",
          "data": {
            "text/html": [
              "<div>\n",
              "<style scoped>\n",
              "    .dataframe tbody tr th:only-of-type {\n",
              "        vertical-align: middle;\n",
              "    }\n",
              "\n",
              "    .dataframe tbody tr th {\n",
              "        vertical-align: top;\n",
              "    }\n",
              "\n",
              "    .dataframe thead th {\n",
              "        text-align: right;\n",
              "    }\n",
              "</style>\n",
              "<table border=\"1\" class=\"dataframe\">\n",
              "  <thead>\n",
              "    <tr style=\"text-align: right;\">\n",
              "      <th></th>\n",
              "      <th>gold</th>\n",
              "      <th>DowJ</th>\n",
              "      <th>NAS</th>\n",
              "      <th>US_INDEX</th>\n",
              "      <th>oil_Lag1</th>\n",
              "      <th>gold_Lag1</th>\n",
              "      <th>DowJ_Lag1</th>\n",
              "      <th>NAS_Lag1</th>\n",
              "      <th>US_INDEX_Lag1</th>\n",
              "      <th>oil_Lag2</th>\n",
              "      <th>gold_Lag2</th>\n",
              "      <th>DowJ_Lag2</th>\n",
              "      <th>NAS_Lag2</th>\n",
              "      <th>US_INDEX_Lag2</th>\n",
              "      <th>oil_Lag3</th>\n",
              "      <th>gold_Lag3</th>\n",
              "      <th>DowJ_Lag3</th>\n",
              "      <th>NAS_Lag3</th>\n",
              "      <th>US_INDEX_Lag3</th>\n",
              "    </tr>\n",
              "    <tr>\n",
              "      <th>date</th>\n",
              "      <th></th>\n",
              "      <th></th>\n",
              "      <th></th>\n",
              "      <th></th>\n",
              "      <th></th>\n",
              "      <th></th>\n",
              "      <th></th>\n",
              "      <th></th>\n",
              "      <th></th>\n",
              "      <th></th>\n",
              "      <th></th>\n",
              "      <th></th>\n",
              "      <th></th>\n",
              "      <th></th>\n",
              "      <th></th>\n",
              "      <th></th>\n",
              "      <th></th>\n",
              "      <th></th>\n",
              "      <th></th>\n",
              "    </tr>\n",
              "  </thead>\n",
              "  <tbody>\n",
              "    <tr>\n",
              "      <th>2015-01-12</th>\n",
              "      <td>0.887513</td>\n",
              "      <td>-0.544214</td>\n",
              "      <td>-0.836719</td>\n",
              "      <td>0.043508</td>\n",
              "      <td>-0.922131</td>\n",
              "      <td>0.393701</td>\n",
              "      <td>-0.952095</td>\n",
              "      <td>-0.678185</td>\n",
              "      <td>-0.465520</td>\n",
              "      <td>0.225919</td>\n",
              "      <td>-0.597322</td>\n",
              "      <td>1.838831</td>\n",
              "      <td>1.843249</td>\n",
              "      <td>0.522368</td>\n",
              "      <td>1.479783</td>\n",
              "      <td>0.227085</td>\n",
              "      <td>1.225439</td>\n",
              "      <td>1.256983</td>\n",
              "      <td>0.426228</td>\n",
              "    </tr>\n",
              "    <tr>\n",
              "      <th>2015-01-13</th>\n",
              "      <td>1.391162</td>\n",
              "      <td>-0.153962</td>\n",
              "      <td>-0.068814</td>\n",
              "      <td>0.358768</td>\n",
              "      <td>-4.736298</td>\n",
              "      <td>0.887513</td>\n",
              "      <td>-0.544214</td>\n",
              "      <td>-0.836719</td>\n",
              "      <td>0.043508</td>\n",
              "      <td>-0.922131</td>\n",
              "      <td>0.393701</td>\n",
              "      <td>-0.952095</td>\n",
              "      <td>-0.678185</td>\n",
              "      <td>-0.465520</td>\n",
              "      <td>0.225919</td>\n",
              "      <td>-0.597322</td>\n",
              "      <td>1.838831</td>\n",
              "      <td>1.843249</td>\n",
              "      <td>0.522368</td>\n",
              "    </tr>\n",
              "    <tr>\n",
              "      <th>2015-01-14</th>\n",
              "      <td>-0.827280</td>\n",
              "      <td>-1.059346</td>\n",
              "      <td>-0.475816</td>\n",
              "      <td>-0.162489</td>\n",
              "      <td>-0.303951</td>\n",
              "      <td>1.391162</td>\n",
              "      <td>-0.153962</td>\n",
              "      <td>-0.068814</td>\n",
              "      <td>0.358768</td>\n",
              "      <td>-4.736298</td>\n",
              "      <td>0.887513</td>\n",
              "      <td>-0.544214</td>\n",
              "      <td>-0.836719</td>\n",
              "      <td>0.043508</td>\n",
              "      <td>-0.922131</td>\n",
              "      <td>0.393701</td>\n",
              "      <td>-0.952095</td>\n",
              "      <td>-0.678185</td>\n",
              "      <td>-0.465520</td>\n",
              "    </tr>\n",
              "    <tr>\n",
              "      <th>2015-01-15</th>\n",
              "      <td>0.528993</td>\n",
              "      <td>-0.610423</td>\n",
              "      <td>-1.476510</td>\n",
              "      <td>0.206157</td>\n",
              "      <td>5.596690</td>\n",
              "      <td>-0.827280</td>\n",
              "      <td>-1.059346</td>\n",
              "      <td>-0.475816</td>\n",
              "      <td>-0.162489</td>\n",
              "      <td>-0.303951</td>\n",
              "      <td>1.391162</td>\n",
              "      <td>-0.153962</td>\n",
              "      <td>-0.068814</td>\n",
              "      <td>0.358768</td>\n",
              "      <td>-4.736298</td>\n",
              "      <td>0.887513</td>\n",
              "      <td>-0.544214</td>\n",
              "      <td>-0.836719</td>\n",
              "      <td>0.043508</td>\n",
              "    </tr>\n",
              "    <tr>\n",
              "      <th>2015-01-16</th>\n",
              "      <td>1.861971</td>\n",
              "      <td>1.101914</td>\n",
              "      <td>1.390561</td>\n",
              "      <td>0.184081</td>\n",
              "      <td>-4.372035</td>\n",
              "      <td>0.528993</td>\n",
              "      <td>-0.610423</td>\n",
              "      <td>-1.476510</td>\n",
              "      <td>0.206157</td>\n",
              "      <td>5.596690</td>\n",
              "      <td>-0.827280</td>\n",
              "      <td>-1.059346</td>\n",
              "      <td>-0.475816</td>\n",
              "      <td>-0.162489</td>\n",
              "      <td>-0.303951</td>\n",
              "      <td>1.391162</td>\n",
              "      <td>-0.153962</td>\n",
              "      <td>-0.068814</td>\n",
              "      <td>0.358768</td>\n",
              "    </tr>\n",
              "  </tbody>\n",
              "</table>\n",
              "</div>"
            ],
            "text/plain": [
              "                gold      DowJ       NAS  ...  DowJ_Lag3  NAS_Lag3  US_INDEX_Lag3\n",
              "date                                      ...                                    \n",
              "2015-01-12  0.887513 -0.544214 -0.836719  ...   1.225439  1.256983       0.426228\n",
              "2015-01-13  1.391162 -0.153962 -0.068814  ...   1.838831  1.843249       0.522368\n",
              "2015-01-14 -0.827280 -1.059346 -0.475816  ...  -0.952095 -0.678185      -0.465520\n",
              "2015-01-15  0.528993 -0.610423 -1.476510  ...  -0.544214 -0.836719       0.043508\n",
              "2015-01-16  1.861971  1.101914  1.390561  ...  -0.153962 -0.068814       0.358768\n",
              "\n",
              "[5 rows x 19 columns]"
            ]
          },
          "metadata": {
            "tags": []
          },
          "execution_count": 15
        }
      ]
    },
    {
      "cell_type": "code",
      "metadata": {
        "id": "BZczhUIftoBK",
        "colab_type": "code",
        "colab": {
          "base_uri": "https://localhost:8080/",
          "height": 527
        },
        "outputId": "8448826f-07b9-4fa7-d50c-8c1d19120272"
      },
      "source": [
        "models = [\n",
        "  ('LR', LogisticRegression()),\n",
        "  ('LDA', LDA()),\n",
        "\n",
        "  ('QDA', QDA()),\n",
        "  ('LSVC', LinearSVC(max_iter=10000)),\n",
        "\n",
        "  ('RSVM', SVC(C=1000000.0, cache_size=200, class_weight=None,\n",
        "    coef0=0.0, degree=3, gamma=0.0001, kernel='rbf',\n",
        "    max_iter=-1, probability=False, random_state=None,\n",
        "    shrinking=True, tol=0.001, verbose=False)),\n",
        "\n",
        "  ('RF', RandomForestClassifier(n_estimators=1000, criterion='gini',\n",
        "  max_depth=None, min_samples_split=2,\n",
        "  min_samples_leaf=1, max_features='auto',\n",
        "  bootstrap=True, oob_score=False, n_jobs=1,\n",
        "  random_state=None, verbose=0)\n",
        "  )\n",
        "]\n",
        "# Iterate through the models\n",
        "for m in models:\n",
        "# Train each of the models on the training set\n",
        "  m[1].fit(X_train, y_train)\n",
        "# Make an array of predictions on the test set\n",
        "  pred = m[1].predict(X_test)\n",
        "\n",
        "\n",
        "# Output the accuracy and the confusion matrix for each model\n",
        "  print('%s:\\n%0.3f' % (m[0], m[1].score(X_test, y_test)))\n",
        "  print('%s\\n' % confusion_matrix(pred, y_test))"
      ],
      "execution_count": 16,
      "outputs": [
        {
          "output_type": "stream",
          "text": [
            "LR:\n",
            "0.549\n",
            "[[29 18]\n",
            " [28 27]]\n",
            "\n",
            "LDA:\n",
            "0.549\n",
            "[[29 18]\n",
            " [28 27]]\n",
            "\n",
            "QDA:\n",
            "0.569\n",
            "[[33 20]\n",
            " [24 25]]\n",
            "\n",
            "LSVC:\n",
            "0.549\n",
            "[[29 18]\n",
            " [28 27]]\n",
            "\n",
            "RSVM:\n",
            "0.539\n",
            "[[30 20]\n",
            " [27 25]]\n",
            "\n",
            "RF:\n",
            "0.500\n",
            "[[25 19]\n",
            " [32 26]]\n",
            "\n"
          ],
          "name": "stdout"
        }
      ]
    },
    {
      "cell_type": "code",
      "metadata": {
        "id": "UMcLuiX6JXh2",
        "colab_type": "code",
        "colab": {}
      },
      "source": [
        "from sklearn.model_selection import GridSearchCV\n",
        "from sklearn.metrics import accuracy_score,recall_score,precision_score"
      ],
      "execution_count": 0,
      "outputs": []
    },
    {
      "cell_type": "code",
      "metadata": {
        "id": "0hFz9Bkn0J2_",
        "colab_type": "code",
        "colab": {
          "base_uri": "https://localhost:8080/",
          "height": 289
        },
        "outputId": "e36d1a32-b7a5-4efa-cbf9-ad8c78666ead"
      },
      "source": [
        "logistic = LogisticRegression()\n",
        "grid_logi_values = {'penalty': ['l1', 'l2'],'C':np.logspace(-3,3,10)}\n",
        "grid_logi_acc = GridSearchCV(logistic, param_grid = grid_logi_values,scoring = 'recall')\n",
        "grid_logi_acc.fit(X_train, y_train)"
      ],
      "execution_count": 18,
      "outputs": [
        {
          "output_type": "execute_result",
          "data": {
            "text/plain": [
              "GridSearchCV(cv=None, error_score=nan,\n",
              "             estimator=LogisticRegression(C=1.0, class_weight=None, dual=False,\n",
              "                                          fit_intercept=True,\n",
              "                                          intercept_scaling=1, l1_ratio=None,\n",
              "                                          max_iter=100, multi_class='auto',\n",
              "                                          n_jobs=None, penalty='l2',\n",
              "                                          random_state=None, solver='lbfgs',\n",
              "                                          tol=0.0001, verbose=0,\n",
              "                                          warm_start=False),\n",
              "             iid='deprecated', n_jobs=None,\n",
              "             param_grid={'C': array([1.00000000e-03, 4.64158883e-03, 2.15443469e-02, 1.00000000e-01,\n",
              "       4.64158883e-01, 2.15443469e+00, 1.00000000e+01, 4.64158883e+01,\n",
              "       2.15443469e+02, 1.00000000e+03]),\n",
              "                         'penalty': ['l1', 'l2']},\n",
              "             pre_dispatch='2*n_jobs', refit=True, return_train_score=False,\n",
              "             scoring='recall', verbose=0)"
            ]
          },
          "metadata": {
            "tags": []
          },
          "execution_count": 18
        }
      ]
    },
    {
      "cell_type": "code",
      "metadata": {
        "id": "GwmjkaJr3wZC",
        "colab_type": "code",
        "colab": {
          "base_uri": "https://localhost:8080/",
          "height": 68
        },
        "outputId": "27f9d011-0f3c-46dc-ecd4-9858128a77ca"
      },
      "source": [
        "#Predict values based on new parameters\n",
        "logi_pred_acc = grid_logi_acc.predict(X_test)\n",
        "\n",
        "# New Model Evaluation metrics \n",
        "print('Accuracy Score : ' + str(accuracy_score(y_test,logi_pred_acc)))\n",
        "\n",
        "\n",
        "#LDA1(Grid Search) Confusion matrix\n",
        "confusion_matrix(y_test,logi_pred_acc)\n"
      ],
      "execution_count": 27,
      "outputs": [
        {
          "output_type": "stream",
          "text": [
            "Accuracy Score : 0.5882352941176471\n"
          ],
          "name": "stdout"
        },
        {
          "output_type": "execute_result",
          "data": {
            "text/plain": [
              "array([[21, 36],\n",
              "       [ 6, 39]])"
            ]
          },
          "metadata": {
            "tags": []
          },
          "execution_count": 27
        }
      ]
    },
    {
      "cell_type": "markdown",
      "metadata": {
        "id": "DNjTuSbdHX4K",
        "colab_type": "text"
      },
      "source": [
        "LDA"
      ]
    },
    {
      "cell_type": "code",
      "metadata": {
        "id": "f56gIhE7-tcr",
        "colab_type": "code",
        "colab": {}
      },
      "source": [
        "LDA_estimator_1 = LDA(shrinkage='auto')\n",
        "LDA_parameters_1 = {\n",
        "    'solver': ('lsqr','eigen'),  #note svd does not run with shrinkage and models using it will be tuned separately\n",
        "    'n_components': (1,5,1),\n",
        "                   }\n",
        "# with GridSearch\n",
        "grid_lda_acc1 = GridSearchCV(\n",
        "    estimator=LDA_estimator_1,\n",
        "    param_grid=LDA_parameters_1,\n",
        "    scoring = 'accuracy',\n",
        "    n_jobs = -1,\n",
        "    cv = 5\n",
        ")\n",
        "grid_lda_acc1.fit(X_train, y_train)\n",
        "lda_pred_acc1 =grid_lda_acc1.predict(X_test)\n"
      ],
      "execution_count": 0,
      "outputs": []
    },
    {
      "cell_type": "code",
      "metadata": {
        "id": "r3o5uiwWHo-x",
        "colab_type": "code",
        "colab": {
          "base_uri": "https://localhost:8080/",
          "height": 68
        },
        "outputId": "4c33cd07-43a7-45f0-c688-bad65b2bba5f"
      },
      "source": [
        "# New Model Evaluation metrics \n",
        "print('Accuracy Score : ' + str(accuracy_score(y_test,lda_pred_acc1)))\n",
        "\n",
        "\n",
        "#LDA1(Grid Search) Confusion matrix\n",
        "confusion_matrix(y_test,lda_pred_acc1)"
      ],
      "execution_count": 22,
      "outputs": [
        {
          "output_type": "stream",
          "text": [
            "Accuracy Score : 0.5392156862745098\n"
          ],
          "name": "stdout"
        },
        {
          "output_type": "execute_result",
          "data": {
            "text/plain": [
              "array([[26, 31],\n",
              "       [16, 29]])"
            ]
          },
          "metadata": {
            "tags": []
          },
          "execution_count": 22
        }
      ]
    },
    {
      "cell_type": "code",
      "metadata": {
        "id": "fw5280y8HKeA",
        "colab_type": "code",
        "colab": {}
      },
      "source": [
        "LDA_estimator_2 = LDA(solver='svd', )#note svd does not run with shrinkage and models using it will be tuned separately\n",
        "LDA_parameters_2 = {\n",
        "    'n_components': (0,5,1),\n",
        "    'store_covariance' :(True, False),\n",
        "                   }\n",
        "# with GridSearch\n",
        "grid_lda_acc2 = GridSearchCV(\n",
        "    estimator=LDA_estimator_2,\n",
        "    param_grid=LDA_parameters_2,\n",
        "    scoring = 'accuracy',\n",
        "    n_jobs = -1,\n",
        "    cv = 5\n",
        ")\n",
        "grid_lda_acc2.fit(X_train, y_train)\n",
        "lda_pred_acc2 =grid_lda_acc2.predict(X_test)\n"
      ],
      "execution_count": 0,
      "outputs": []
    },
    {
      "cell_type": "code",
      "metadata": {
        "id": "pZJIt3e0JPxP",
        "colab_type": "code",
        "colab": {}
      },
      "source": [
        "# New Model Evaluation metrics \n",
        "print('Accuracy Score : ' + str(accuracy_score(y_test,lda_pred_acc2)))\n",
        "\n",
        "\n",
        "#LDA2(Grid Search) Confusion matrix\n",
        "confusion_matrix(y_test,lda_pred_acc2)"
      ],
      "execution_count": 0,
      "outputs": []
    },
    {
      "cell_type": "markdown",
      "metadata": {
        "id": "tI363mtjJZCu",
        "colab_type": "text"
      },
      "source": [
        "QDA\n"
      ]
    },
    {
      "cell_type": "code",
      "metadata": {
        "id": "pGCdzs9kJbOW",
        "colab_type": "code",
        "colab": {}
      },
      "source": [
        "QDA_estimator = QDA()\n",
        "QDA_parameters = {\n",
        "    'reg_param': (0.00001, 0.0001, 0.001,0.01, 0.1), \n",
        "    'store_covariance': (True, False),\n",
        "    'tol': (0.0001, 0.001,0.01, 0.1), \n",
        "                   }\n",
        "# with GridSearch\n",
        "grid_qda = GridSearchCV(\n",
        "    estimator=QDA_estimator,\n",
        "    param_grid=QDA_parameters,\n",
        "    scoring = 'accuracy',\n",
        "    n_jobs = -1,\n",
        "    cv = 5\n",
        ")\n",
        "grid_qda.fit(X_train, y_train)\n",
        "QDA_pred =grid_qda.predict(X_test)"
      ],
      "execution_count": 0,
      "outputs": []
    },
    {
      "cell_type": "code",
      "metadata": {
        "id": "wPvGUcovKhEh",
        "colab_type": "code",
        "colab": {}
      },
      "source": [
        "# New Model Evaluation metrics \n",
        "print('Accuracy Score : ' + str(accuracy_score(y_test,QDA_pred)))\n",
        "\n",
        "\n",
        "#QDA(Grid Search) Confusion matrix\n",
        "confusion_matrix(y_test,QDA_pred)"
      ],
      "execution_count": 0,
      "outputs": []
    }
  ]
}